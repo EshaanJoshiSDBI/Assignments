{
 "cells": [
  {
   "cell_type": "code",
   "execution_count": 1,
   "id": "75b00897-6139-4b14-a578-77bdfc1b1221",
   "metadata": {},
   "outputs": [
    {
     "name": "stderr",
     "output_type": "stream",
     "text": [
      "/home/eshaan/.local/lib/python3.10/site-packages/fuzzywuzzy/fuzz.py:11: UserWarning: Using slow pure-python SequenceMatcher. Install python-Levenshtein to remove this warning\n",
      "  warnings.warn('Using slow pure-python SequenceMatcher. Install python-Levenshtein to remove this warning')\n"
     ]
    }
   ],
   "source": [
    "import pandas as pd\n",
    "from fuzzywuzzy import fuzz"
   ]
  },
  {
   "cell_type": "code",
   "execution_count": 2,
   "id": "4c0d4d7e-6d8a-488b-b723-157923f1f5ff",
   "metadata": {},
   "outputs": [],
   "source": [
    "df_amzn = pd.read_csv('amz_com-ecommerce_sample.csv',encoding= 'unicode_escape')"
   ]
  },
  {
   "cell_type": "code",
   "execution_count": 3,
   "id": "f066c7f8-5ff0-438a-a5f2-8c7012de3ed9",
   "metadata": {},
   "outputs": [],
   "source": [
    "df_fpkrt = pd.read_csv('flipkart_com-ecommerce_sample.csv')"
   ]
  },
  {
   "cell_type": "code",
   "execution_count": 12,
   "id": "5c8740c8-622a-4d3a-a66b-ee486e5e80e2",
   "metadata": {},
   "outputs": [
    {
     "data": {
      "text/plain": [
       "29"
      ]
     },
     "execution_count": 12,
     "metadata": {},
     "output_type": "execute_result"
    }
   ],
   "source": [
    "fuzz.token_sort_ratio(df_amzn['product_name'][0],df_fpkrt['product_name'][10])"
   ]
  },
  {
   "cell_type": "code",
   "execution_count": 7,
   "id": "887f4864-5958-456d-8236-e4c6b781634a",
   "metadata": {},
   "outputs": [
    {
     "data": {
      "text/plain": [
       "'FabHomeDecor Fabric Double Sofa Bed'"
      ]
     },
     "execution_count": 7,
     "metadata": {},
     "output_type": "execute_result"
    }
   ],
   "source": [
    "df_amzn['product_name'][1]"
   ]
  },
  {
   "cell_type": "code",
   "execution_count": 59,
   "id": "6ef6a467-8cda-449b-b4d6-fd88b5412ba6",
   "metadata": {},
   "outputs": [
    {
     "name": "stdin",
     "output_type": "stream",
     "text": [
      "Enter the product SICONS CONDITIONING CONDITONER\n"
     ]
    }
   ],
   "source": [
    "inp = input('Enter the product')"
   ]
  },
  {
   "cell_type": "code",
   "execution_count": 32,
   "id": "67166c48-c941-43ea-9810-89911684c285",
   "metadata": {},
   "outputs": [
    {
     "data": {
      "text/plain": [
       "Index(['uniq_id', 'crawl_timestamp', 'product_url', 'product_name',\n",
       "       'product_category_tree', 'pid', 'retail_price', 'discounted_price',\n",
       "       'image', 'is_FK_Advantage_product', 'description', 'product_rating',\n",
       "       'overall_rating', 'brand', 'product_specifications'],\n",
       "      dtype='object')"
      ]
     },
     "execution_count": 32,
     "metadata": {},
     "output_type": "execute_result"
    }
   ],
   "source": [
    "df_amzn.columns"
   ]
  },
  {
   "cell_type": "code",
   "execution_count": 60,
   "id": "2e3fc628-f3d3-4d48-a54e-185e71ae2796",
   "metadata": {},
   "outputs": [
    {
     "data": {
      "text/html": [
       "<div>\n",
       "<style scoped>\n",
       "    .dataframe tbody tr th:only-of-type {\n",
       "        vertical-align: middle;\n",
       "    }\n",
       "\n",
       "    .dataframe tbody tr th {\n",
       "        vertical-align: top;\n",
       "    }\n",
       "\n",
       "    .dataframe thead th {\n",
       "        text-align: right;\n",
       "    }\n",
       "</style>\n",
       "<table border=\"1\" class=\"dataframe\">\n",
       "  <thead>\n",
       "    <tr style=\"text-align: right;\">\n",
       "      <th></th>\n",
       "      <th>Product name in Flipkart</th>\n",
       "      <th>Flipkart's retail price</th>\n",
       "      <th>Flipkart's discounted price</th>\n",
       "      <th>Product name in Amazon</th>\n",
       "      <th>Amazon's retail price</th>\n",
       "      <th>Amazon's discounted price</th>\n",
       "    </tr>\n",
       "  </thead>\n",
       "  <tbody>\n",
       "    <tr>\n",
       "      <th>0</th>\n",
       "      <td>Sicons Conditioning Conditoner Dog Shampoo</td>\n",
       "      <td>110.0</td>\n",
       "      <td>100.0</td>\n",
       "      <td>SICONS CONDITIONING CONDITONER DOG SHAMPOO</td>\n",
       "      <td>97</td>\n",
       "      <td>119</td>\n",
       "    </tr>\n",
       "  </tbody>\n",
       "</table>\n",
       "</div>"
      ],
      "text/plain": [
       "                     Product name in Flipkart Flipkart's retail price  \\\n",
       "0  Sicons Conditioning Conditoner Dog Shampoo                   110.0   \n",
       "\n",
       "  Flipkart's discounted price                      Product name in Amazon  \\\n",
       "0                       100.0  SICONS CONDITIONING CONDITONER DOG SHAMPOO   \n",
       "\n",
       "  Amazon's retail price Amazon's discounted price  \n",
       "0                    97                       119  "
      ]
     },
     "execution_count": 60,
     "metadata": {},
     "output_type": "execute_result"
    }
   ],
   "source": [
    "temp = df_amzn.loc[:,['product_name','retail_price','discounted_price']]\n",
    "temp['fr'] = temp['product_name'].apply(lambda x: fuzz.token_sort_ratio(inp,x))\n",
    "temp.sort_values(by='fr',ascending=False,inplace=True)\n",
    "amzn_prod = pd.DataFrame(temp.iloc[0,[0,1,2]]).T\n",
    "amzn_prod.reset_index(drop=True,inplace=True)\n",
    "amzn_prod.columns = ['Product name in Amazon','Amazon\\'s retail price','Amazon\\'s discounted price']\n",
    "temp = df_fpkrt.loc[:,['product_name','retail_price','discounted_price']]\n",
    "temp['fr'] = temp['product_name'].apply(lambda x: fuzz.token_sort_ratio(inp,x))\n",
    "temp.sort_values(by='fr',ascending=False,inplace=True)\n",
    "fpkrt_prod = pd.DataFrame(temp.iloc[0,[0,1,2]]).T\n",
    "fpkrt_prod.reset_index(drop=True,inplace=True)\n",
    "fpkrt_prod.columns = ['Product name in Flipkart','Flipkart\\'s retail price','Flipkart\\'s discounted price']\n",
    "res = pd.concat([fpkrt_prod,amzn_prod],axis=1)\n",
    "res"
   ]
  }
 ],
 "metadata": {
  "kernelspec": {
   "display_name": "Python 3 (ipykernel)",
   "language": "python",
   "name": "python3"
  },
  "language_info": {
   "codemirror_mode": {
    "name": "ipython",
    "version": 3
   },
   "file_extension": ".py",
   "mimetype": "text/x-python",
   "name": "python",
   "nbconvert_exporter": "python",
   "pygments_lexer": "ipython3",
   "version": "3.10.8"
  }
 },
 "nbformat": 4,
 "nbformat_minor": 5
}
